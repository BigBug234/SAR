{
  "nbformat": 4,
  "nbformat_minor": 0,
  "metadata": {
    "colab": {
      "provenance": []
    },
    "kernelspec": {
      "name": "python3",
      "display_name": "Python 3"
    },
    "language_info": {
      "name": "python"
    }
  },
  "cells": [
    {
      "cell_type": "code",
      "execution_count": 7,
      "metadata": {
        "colab": {
          "base_uri": "https://localhost:8080/",
          "height": 483
        },
        "id": "bKFImMeSIo_P",
        "outputId": "a6a7f464-e18f-4c8a-b4e8-58b7398b18fd"
      },
      "outputs": [
        {
          "output_type": "stream",
          "name": "stderr",
          "text": [
            "/usr/local/lib/python3.10/dist-packages/sklearn/cluster/_kmeans.py:870: FutureWarning: The default value of `n_init` will change from 10 to 'auto' in 1.4. Set the value of `n_init` explicitly to suppress the warning\n",
            "  warnings.warn(\n"
          ]
        },
        {
          "output_type": "display_data",
          "data": {
            "text/plain": [
              "<Figure size 640x480 with 1 Axes>"
            ],
            "image/png": "[encoded data removed]"
          },
          "metadata": {}
        },
        {
          "output_type": "display_data",
          "data": {
            "text/plain": [
              "<IPython.core.display.Javascript object>"
            ],
            "application/javascript": [
              "\n",
              "    async function download(id, filename, size) {\n",
              "      if (!google.colab.kernel.accessAllowed) {\n",
              "        return;\n",
              "      }\n",
              "      const div = document.createElement('div');\n",
              "      const label = document.createElement('label');\n",
              "      label.textContent = `Downloading \"${filename}\": `;\n",
              "      div.appendChild(label);\n",
              "      const progress = document.createElement('progress');\n",
              "      progress.max = size;\n",
              "      div.appendChild(progress);\n",
              "      document.body.appendChild(div);\n",
              "\n",
              "      const buffers = [];\n",
              "      let downloaded = 0;\n",
              "\n",
              "      const channel = await google.colab.kernel.comms.open(id);\n",
              "      // Send a message to notify the kernel that we're ready.\n",
              "      channel.send({})\n",
              "\n",
              "      for await (const message of channel.messages) {\n",
              "        // Send a message to notify the kernel that we're ready.\n",
              "        channel.send({})\n",
              "        if (message.buffers) {\n",
              "          for (const buffer of message.buffers) {\n",
              "            buffers.push(buffer);\n",
              "            downloaded += buffer.byteLength;\n",
              "            progress.value = downloaded;\n",
              "          }\n",
              "        }\n",
              "      }\n",
              "      const blob = new Blob(buffers, {type: 'application/binary'});\n",
              "      const a = document.createElement('a');\n",
              "      a.href = window.URL.createObjectURL(blob);\n",
              "      a.download = filename;\n",
              "      div.appendChild(a);\n",
              "      a.click();\n",
              "      div.remove();\n",
              "    }\n",
              "  "
            ]
          },
          "metadata": {}
        },
        {
          "output_type": "display_data",
          "data": {
            "text/plain": [
              "<IPython.core.display.Javascript object>"
            ],
            "application/javascript": [
              "download(\"download_0e104248-adf2-4fe8-943a-826603e75dc1\", \"yellowRiver_change_map.jpg\", 25245)"
            ]
          },
          "metadata": {}
        }
      ],
      "source": [
        "import numpy as np\n",
        "from sklearn.cluster import KMeans\n",
        "import cv2\n",
        "import matplotlib.pyplot as plt\n",
        "from google.colab import files\n",
        "\n",
        "def pca_kmeans(im1, im2, block_size, rate=0.9):\n",
        "    # Convert images to grayscale\n",
        "    im1_gray = cv2.cvtColor(im1, cv2.COLOR_BGR2GRAY)\n",
        "    im2_gray = cv2.cvtColor(im2, cv2.COLOR_BGR2GRAY)\n",
        "\n",
        "    # Calculate image size and padding size\n",
        "    image_size = im1_gray.shape\n",
        "    padding_size = (image_size[0] + block_size[0] - 1, image_size[1] + block_size[1] - 1)\n",
        "\n",
        "    # Calculate the difference image\n",
        "    delta = np.abs(im1_gray.astype(float) - im2_gray.astype(float))\n",
        "\n",
        "    # Padding\n",
        "    padding_img = np.zeros(padding_size)\n",
        "    lb = (block_size[0] // 2, block_size[1] // 2)\n",
        "    ub_col = lb[0] + image_size[0]\n",
        "    ub_row = lb[1] + image_size[1]\n",
        "    padding_img[lb[0]:ub_col, lb[1]:ub_row] = delta\n",
        "\n",
        "    # Generate feature vector for blocks\n",
        "    vk = np.zeros((np.prod(image_size), np.prod(block_size)))\n",
        "    cnt = 0\n",
        "    for k1 in range(image_size[0]):\n",
        "        for k2 in range(image_size[1]):\n",
        "            vk_temp = padding_img[k1:k1+block_size[0], k2:k2+block_size[1]]\n",
        "            vk[cnt,:] = vk_temp.reshape(-1)\n",
        "            cnt += 1\n",
        "\n",
        "    # Normalization\n",
        "    mean_val = np.mean(vk, axis=0)\n",
        "    std_val = np.std(vk, axis=0) + 1e-12\n",
        "    vk = (vk - mean_val) / std_val\n",
        "\n",
        "    # PCA\n",
        "    cov = np.dot(vk.T, vk)\n",
        "    val, V = np.linalg.eig(cov)\n",
        "    val_sorted_indices = np.argsort(val)[::-1]\n",
        "    val_sorted = val[val_sorted_indices]\n",
        "    vec = V[:, val_sorted_indices[:np.argmax(np.cumsum(val_sorted) >= rate * np.sum(val_sorted)) + 1]]\n",
        "    feature = np.dot(vk, vec)\n",
        "\n",
        "    # k-Means clustering\n",
        "    kmeans = KMeans(n_clusters=2)\n",
        "    label = kmeans.fit_predict(feature)\n",
        "\n",
        "    # Generate change map\n",
        "    change_map = label.reshape(image_size)\n",
        "\n",
        "    return change_map\n",
        "\n",
        "\n",
        "# Load input images\n",
        "im1 = cv2.imread('/content/input_image.jpeg')\n",
        "im2 = cv2.imread('/content/input_image2.jpeg')\n",
        "\n",
        "# Define block size and rate\n",
        "block_size = (8, 8)  # Example block size\n",
        "rate = 0.9  # Example rate\n",
        "\n",
        "# Perform change detection\n",
        "change_map = pca_kmeans(im1, im2, block_size, rate)\n",
        "\n",
        "# Display the change map\n",
        "plt.imshow(change_map, cmap='gray')\n",
        "plt.title('Change Map')\n",
        "plt.axis('off')\n",
        "plt.show()\n",
        "\n",
        "# Scale the change map to 0-255\n",
        "change_map_scaled = (change_map * 255).astype(np.uint8)\n",
        "\n",
        "# Save the change map as an image file\n",
        "cv2.imwrite('/content/yellowRiver_change_map.jpg', change_map_scaled)\n",
        "\n",
        "# Provide download link for the change map\n",
        "files.download('/content/yellowRiver_change_map.jpg')\n"
      ]
    }
  ]
}